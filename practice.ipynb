{
  "nbformat": 4,
  "nbformat_minor": 0,
  "metadata": {
    "colab": {
      "provenance": []
    },
    "kernelspec": {
      "name": "python3",
      "display_name": "Python 3"
    },
    "language_info": {
      "name": "python"
    }
  },
  "cells": [
    {
      "cell_type": "markdown",
      "source": [
        "##Heading 1"
      ],
      "metadata": {
        "id": "U3SjGMlFC9TU"
      }
    },
    {
      "cell_type": "code",
      "source": [],
      "metadata": {
        "id": "Cc3eqrS9DE0H"
      },
      "execution_count": null,
      "outputs": []
    },
    {
      "cell_type": "code",
      "source": [
        "date=\"11/25/2024\""
      ],
      "metadata": {
        "id": "OQqHe7j2FAMb"
      },
      "execution_count": null,
      "outputs": []
    },
    {
      "cell_type": "code",
      "source": [
        "date"
      ],
      "metadata": {
        "id": "_OL1mKJsFK8J",
        "outputId": "7c5101cc-399d-4655-dbc1-6b9ffca58b51",
        "colab": {
          "base_uri": "https://localhost:8080/",
          "height": 35
        }
      },
      "execution_count": null,
      "outputs": [
        {
          "output_type": "execute_result",
          "data": {
            "text/plain": [
              "'11/25/2024'"
            ],
            "application/vnd.google.colaboratory.intrinsic+json": {
              "type": "string"
            }
          },
          "metadata": {},
          "execution_count": 4
        }
      ]
    },
    {
      "cell_type": "code",
      "source": [
        "text = \"Python is amazing\"\n",
        "substring = text[-7:-1]\n",
        "print(substring)"
      ],
      "metadata": {
        "colab": {
          "base_uri": "https://localhost:8080/"
        },
        "id": "_z2TFfAJQFTE",
        "outputId": "27d89f4a-64be-4e69-e011-af13eca30a22"
      },
      "execution_count": null,
      "outputs": [
        {
          "output_type": "stream",
          "name": "stdout",
          "text": [
            "amazin\n"
          ]
        }
      ]
    },
    {
      "cell_type": "code",
      "source": [],
      "metadata": {
        "id": "FmD23NDnFRTe"
      },
      "execution_count": null,
      "outputs": []
    },
    {
      "cell_type": "code",
      "source": [
        "x = 2+2"
      ],
      "metadata": {
        "id": "7RJMigUCkVNf"
      },
      "execution_count": null,
      "outputs": []
    },
    {
      "cell_type": "code",
      "source": [
        "x"
      ],
      "metadata": {
        "colab": {
          "base_uri": "https://localhost:8080/"
        },
        "id": "8PhKjYjRkaY-",
        "outputId": "c6e66a4d-a24b-4445-dc99-744e5fc795db"
      },
      "execution_count": null,
      "outputs": [
        {
          "output_type": "execute_result",
          "data": {
            "text/plain": [
              "4"
            ]
          },
          "metadata": {},
          "execution_count": 2
        }
      ]
    },
    {
      "cell_type": "code",
      "source": [],
      "metadata": {
        "id": "f0gKknhOkhE6"
      },
      "execution_count": null,
      "outputs": []
    },
    {
      "cell_type": "markdown",
      "source": [
        "This is **markdown** language!\n",
        "\n",
        "* item1\n",
        "* item2"
      ],
      "metadata": {
        "id": "eZ8psZeuk7Ql"
      }
    },
    {
      "cell_type": "code",
      "source": [
        "original_string = \"hello, world!\"\n",
        "uppercase_string = original_string.upper()\n",
        "print(uppercase_string)"
      ],
      "metadata": {
        "colab": {
          "base_uri": "https://localhost:8080/"
        },
        "id": "8JM2qyx8pe0B",
        "outputId": "3f7d865b-cf8b-4ded-994a-7cf118ac158b"
      },
      "execution_count": null,
      "outputs": [
        {
          "output_type": "stream",
          "name": "stdout",
          "text": [
            "HELLO, WORLD!\n"
          ]
        }
      ]
    },
    {
      "cell_type": "code",
      "source": [
        "Plant_tuple = (\"Mango\", \"lemon grass\", \"herbs\", 50.0, 25)"
      ],
      "metadata": {
        "id": "bOgmg0vmMtOL"
      },
      "execution_count": null,
      "outputs": []
    },
    {
      "cell_type": "code",
      "source": [
        "Plant_tuple"
      ],
      "metadata": {
        "colab": {
          "base_uri": "https://localhost:8080/"
        },
        "id": "_5ApSwC6NDa5",
        "outputId": "48a135cd-cb52-46a3-e446-9c9569e85fbf"
      },
      "execution_count": null,
      "outputs": [
        {
          "output_type": "execute_result",
          "data": {
            "text/plain": [
              "('Mango', 'lemon grass', 'herbs', 50.0, 25)"
            ]
          },
          "metadata": {},
          "execution_count": 5
        }
      ]
    },
    {
      "cell_type": "code",
      "source": [
        "print(Plant_tuple)"
      ],
      "metadata": {
        "colab": {
          "base_uri": "https://localhost:8080/"
        },
        "id": "VxusgtvjNGn4",
        "outputId": "30b9fe33-da1b-4fce-86e6-9891f3f01cc8"
      },
      "execution_count": null,
      "outputs": [
        {
          "output_type": "stream",
          "name": "stdout",
          "text": [
            "('Mango', 'lemon grass', 'herbs', 50.0, 25)\n"
          ]
        }
      ]
    },
    {
      "cell_type": "code",
      "source": [
        "Plant_tuple_new = Plant_tuple + (\"Tropics\", False, True)"
      ],
      "metadata": {
        "id": "Ko8hMiEUNPt_"
      },
      "execution_count": null,
      "outputs": []
    },
    {
      "cell_type": "code",
      "source": [
        "print(Plant_tuple_new)"
      ],
      "metadata": {
        "colab": {
          "base_uri": "https://localhost:8080/"
        },
        "id": "v5pd5FKYNczR",
        "outputId": "2f23a74a-1236-4529-a39e-e442b7664d4f"
      },
      "execution_count": null,
      "outputs": [
        {
          "output_type": "stream",
          "name": "stdout",
          "text": [
            "('Mango', 'lemon grass', 'herbs', 50.0, 25, 'Tropics', False, True)\n"
          ]
        }
      ]
    },
    {
      "cell_type": "code",
      "source": [
        "# Return the number of elements in Plant_tuple_new using the len() function\n",
        "length_of_tuple = len(Plant_tuple_new)\n",
        "\n",
        "print(f\"No. of attributes: {length_of_tuple}\")"
      ],
      "metadata": {
        "colab": {
          "base_uri": "https://localhost:8080/"
        },
        "id": "FsGYlwP3NhbJ",
        "outputId": "3c2850f7-9595-4473-9ed3-6ded7848aae4"
      },
      "execution_count": null,
      "outputs": [
        {
          "output_type": "stream",
          "name": "stdout",
          "text": [
            "No. of attributes: 8\n"
          ]
        }
      ]
    },
    {
      "cell_type": "code",
      "source": [
        "# Assign each element in Plant_tuple to individual variables. This is known as Tuple unpacking.\n",
        "Plant_tuple = (\"Lemon grass\", \"Herb\", 50.5, 30)\n",
        "\n",
        "name, group, av_weight, av_lifespan = Plant_tuple\n",
        "print(f\"Name: {name}\")\n",
        "print(f\"Group: {group}\")\n",
        "print(f\"Average weight: {av_weight}\")\n",
        "print(f\"Average Lifespon: {av_lifespan}\")"
      ],
      "metadata": {
        "colab": {
          "base_uri": "https://localhost:8080/"
        },
        "id": "OUCUMBRWVUNS",
        "outputId": "56cd5197-afb0-43f1-ed8d-cdcc88edce5b"
      },
      "execution_count": null,
      "outputs": [
        {
          "output_type": "stream",
          "name": "stdout",
          "text": [
            "Name: Lemon grass\n",
            "Group: Herb\n",
            "Average weight: 50.5\n",
            "Average Lifespon: 30\n"
          ]
        }
      ]
    },
    {
      "cell_type": "code",
      "source": [
        "# Create a list, defined within square brackets\n",
        "mammals = [\"Lion\", \"Elephant\", \"Dolphin\"]\n",
        "mammals"
      ],
      "metadata": {
        "colab": {
          "base_uri": "https://localhost:8080/"
        },
        "id": "0y88SKI_mDfT",
        "outputId": "93266703-4489-4f0e-c484-2fd8cc10786f"
      },
      "execution_count": null,
      "outputs": [
        {
          "output_type": "execute_result",
          "data": {
            "text/plain": [
              "['Lion', 'Elephant', 'Dolphin']"
            ]
          },
          "metadata": {},
          "execution_count": 2
        }
      ]
    },
    {
      "cell_type": "code",
      "source": [
        "mammals_copy = mammals.copy()"
      ],
      "metadata": {
        "id": "MUGgTD5ilxKj"
      },
      "execution_count": null,
      "outputs": []
    },
    {
      "cell_type": "code",
      "source": [
        "# Add individual elements to mammals_copy\n",
        "mammals_copy.extend([\"Bear\", \"Horse\"])\n",
        "print(mammals_copy)"
      ],
      "metadata": {
        "colab": {
          "base_uri": "https://localhost:8080/"
        },
        "id": "wqizDSLElyJ-",
        "outputId": "fa01872d-5c8d-4aab-e4e3-0b6c3e011059"
      },
      "execution_count": null,
      "outputs": [
        {
          "output_type": "stream",
          "name": "stdout",
          "text": [
            "['Lion', 'Elephant', 'Dolphin', 'Bear', 'Horse']\n"
          ]
        }
      ]
    },
    {
      "cell_type": "code",
      "source": [
        "def nucleotide_segmentor (input1):\n",
        "  for base in input1:\n",
        "    if base == \"A\" or base == \"G\":\n"
      ],
      "metadata": {
        "colab": {
          "base_uri": "https://localhost:8080/",
          "height": 106
        },
        "id": "kV5eGm5-cxRt",
        "outputId": "e146d139-65b4-44e3-f2de-0fbdf8bf21e8"
      },
      "execution_count": null,
      "outputs": [
        {
          "output_type": "error",
          "ename": "SyntaxError",
          "evalue": "incomplete input (<ipython-input-2-0ef1873f7357>, line 2)",
          "traceback": [
            "\u001b[0;36m  File \u001b[0;32m\"<ipython-input-2-0ef1873f7357>\"\u001b[0;36m, line \u001b[0;32m2\u001b[0m\n\u001b[0;31m    \u001b[0m\n\u001b[0m    ^\u001b[0m\n\u001b[0;31mSyntaxError\u001b[0m\u001b[0;31m:\u001b[0m incomplete input\n"
          ]
        }
      ]
    },
    {
      "cell_type": "code",
      "source": [
        "help(round)"
      ],
      "metadata": {
        "id": "bKtyQ4ljc_eC",
        "outputId": "791c6746-bf88-4e56-fb33-31f4fbc4e3a7",
        "colab": {
          "base_uri": "https://localhost:8080/"
        }
      },
      "execution_count": null,
      "outputs": [
        {
          "output_type": "stream",
          "name": "stdout",
          "text": [
            "Help on built-in function round in module builtins:\n",
            "\n",
            "round(number, ndigits=None)\n",
            "    Round a number to a given precision in decimal digits.\n",
            "    \n",
            "    The return value is an integer if ndigits is omitted or None.  Otherwise\n",
            "    the return value has the same type as the number.  ndigits may be negative.\n",
            "\n"
          ]
        }
      ]
    },
    {
      "cell_type": "code",
      "source": [
        "help(Bio.Seq)"
      ],
      "metadata": {
        "id": "4Nbc471emneR"
      },
      "execution_count": null,
      "outputs": []
    },
    {
      "cell_type": "code",
      "source": [
        "!pip install biopython"
      ],
      "metadata": {
        "colab": {
          "base_uri": "https://localhost:8080/"
        },
        "id": "mzPmPSurxdiF",
        "outputId": "1edbc207-2bea-4ca8-d3a3-3e96b783ba9a"
      },
      "execution_count": null,
      "outputs": [
        {
          "output_type": "stream",
          "name": "stdout",
          "text": [
            "Collecting biopython\n",
            "  Downloading biopython-1.84-cp310-cp310-manylinux_2_17_x86_64.manylinux2014_x86_64.whl.metadata (12 kB)\n",
            "Requirement already satisfied: numpy in /usr/local/lib/python3.10/dist-packages (from biopython) (1.26.4)\n",
            "Downloading biopython-1.84-cp310-cp310-manylinux_2_17_x86_64.manylinux2014_x86_64.whl (3.2 MB)\n",
            "\u001b[2K   \u001b[90m━━━━━━━━━━━━━━━━━━━━━━━━━━━━━━━━━━━━━━━━\u001b[0m \u001b[32m3.2/3.2 MB\u001b[0m \u001b[31m28.0 MB/s\u001b[0m eta \u001b[36m0:00:00\u001b[0m\n",
            "\u001b[?25hInstalling collected packages: biopython\n",
            "Successfully installed biopython-1.84\n"
          ]
        }
      ]
    },
    {
      "cell_type": "code",
      "source": [
        "from Bio.Seq import Seq\n",
        "sequenced = Seq(\"AATGGCC\")\n",
        "from Bio.SeqRecord import SeqRecord\n",
        "sequenced_record = SeqRecord(sequenced)\n",
        "print(sequenced_record)"
      ],
      "metadata": {
        "id": "1bsNGeprgvNQ",
        "colab": {
          "base_uri": "https://localhost:8080/"
        },
        "outputId": "e9e14b3f-8e20-4518-fe43-3168b59985da"
      },
      "execution_count": null,
      "outputs": [
        {
          "output_type": "stream",
          "name": "stdout",
          "text": [
            "ID: <unknown id>\n",
            "Name: <unknown name>\n",
            "Description: <unknown description>\n",
            "Number of features: 0\n",
            "Seq('AATGGCC')\n"
          ]
        }
      ]
    },
    {
      "cell_type": "code",
      "source": [
        "# download sequence from ncbi\n",
        "from Bio import SeqIO\n",
        "from Bio import Entrez\n",
        "\n",
        "Entrez.email = \"desmondagwunobi247@gmail.com\"  # set your email for ncbi queries\n",
        "handle = Entrez.efetch(db='nucleotide', id='NM_001185075', rettype='fasta')\n",
        "record = SeqIO.read(handle, \"fasta\")\n",
        "print(record.id)\n",
        "print(record.seq)\n",
        "\n",
        "SeqIO.write(record, \"NM_001185075.fasta\", \"fasta\")"
      ],
      "metadata": {
        "colab": {
          "base_uri": "https://localhost:8080/"
        },
        "id": "iVyucl3ixTBz",
        "outputId": "af85f961-e45b-4784-c43e-a3d38bf3e6a5"
      },
      "execution_count": null,
      "outputs": [
        {
          "output_type": "stream",
          "name": "stdout",
          "text": [
            "NM_001185075.2\n",
            "CTCAGTCAGGCGCTCAGCTCCGTTTCGGTTTCACTTCCGGTGGAGGGCCGCCTCTGAGCGGGCGGCGGGCCGACGGCGAGCGCGGGCGGCGGCGGTGACGGAGGCGCCGCTGCCAGGGGGCGTGCGGCAGCGCGGCGGCGGCGGCGGCGGCGGCGGCGGCGGAGGCGGCGGCGGCGGCGGCGGCGGCGGCGGCTGGGCCTCGAGCGCCCGCAGCCCACCTCTCGGGGGCGGGCTCCCGGCGCTAGCAGGGCTGAAGAGAAGATGGAGGAGCTGGTGGTGGAAGTGCGGGGCTCCAATGGCGCTTTCTACAAGGCATTTGTAAAGGATGTTCATGAAGATTCAATAACAGTTGCATTTGAAAACAACTGGCAGCCTGATAGGCAGATTCCATTTCATGATGTCAGATTCCCACCTCCTGTAGGTTATAATAAAGATATAAATGAAAGTGATGAAGTTGAGGTGTATTCCAGAGCAAATGAAAAAGAGCCTTGCTGTTGGTGGTTAGCTAAAGTGAGGATGATAAAGGGTGAGTTTTATGTGATAGAATATGCAGCATGTGATGCAACTTACAATGAAATTGTCACAATTGAACGTCTAAGATCTGTTAATCCCAACAAACCTGCCACAAAAGATACTTTCCATAAGATCAAGCTGGATGTGCCAGAAGACTTACGGCAAATGTGTGCCAAAGAGGCGGCACATAAGGATTTTAAAAAGGCAGTTGGTGCCTTTTCTGTAACTTATGATCCAGAAAATTATCAGCTTGTCATTTTGTCCATCAATGAAGTCACCTCAAAGCGAGCACATATGCTGATTGACATGCACTTTCGGAGTCTGCGCACTAAGTTGTCTCTGATAATGAGAAATGAAGAAGCTAGTAAGCAGCTGGAGAGTTCAAGGCAGCTTGCCTCGAGATTTCATGAACAGTTTATCGTAAGAGAAGATCTGATGGGTCTAGCTATTGGTACTCATGGTGCTAATATTCAGCAAGCTAGAAAAGTACCTGGGGTCACTGCTATTGATCTAGATGAAGATACCTGCACATTTCATATTTATGGAGAGGATCAGGATGCAGTGAAAAAAGCTAGAAGCTTTCTCGAATTTGCTGAAGATGTAATACAAGTTCCAAGGAACTTAGTAGGCAAAGTAATAGGAAAAAATGGAAAGCTGATTCAGGAGATTGTGGACAAGTCAGGAGTTGTGAGGGTGAGGATTGAGGCTGAAAATGAGAAAAATGTTCCACAAGAAGAGGAAATTATGCCACCAAATTCCCTTCCTTCCAATAATTCAAGGGTTGGACCTAATGCCCCAGAAGAAAAAAAACATTTAGATATAAAGGAAAACAGCACCCATTTTTCTCAACCTAACAGTACAAAAGTCCAGAGGGTGTTAGTGGCTTCATCAGTTGTAGCAGGGGAATCCCAGAAACCTGAACTCAAGGCTTGGCAGGGTATGGTACCATTTGTTTTTGTGGGAACAAAGGACAGCATCGCTAATGCCACTGTTCTTTTGGATTATCACCTGAACTATTTAAAGCTCCAACAGAGGAAGAGAGGGAGAGCTTCCTGCGCAGAGGAGACGGACGGCGGCGTGGAGGGGGAGGAAGAGGACAAGGAGGAAGAGGACGTGGAGGAGGCTTCAAAGGAAACGACGATCACTCCCGAACAGATAATCGTCCACGTAATCCAAGAGAGGCTAAAGGAAGAACAACAGATGGATCCCTTCAGATCAGAGTTGACTGCAATAATGAAAGGAGTGTCCACACTAAAACATTACAGAATACCTCCAGTGAAGGTAGTCGGCTGCGCACGGGTAAAGATCGTAACCAGAAGAAAGAGAAGCCAGACAGCGTGGATGGTCAGCAACCACTCGTGAATGGAGTACCCTAAACTGCATAATTCTGAAGTTATATTTCCTATACCATTTCCGTAATTCTTATTCCATATTAGAAAACTTTGTTAGGCCAAAGACAAATAGTAGGCAAGATGGCACAGGGCATGAAATGAACACAAATTATGCTAAGAATTTTTTATTTTTTGGTATTGGCCATAAGCAACAATTTTCAGATTTGCACAAAAAGATACCTTAAAATTTGAAACATTGCTTTTAAAACTACTTAGCACTTCAGGGCAGATTTTAGTTTTATTTTCTAAAGTACTGAGCAGTGATATTCTTTGTTAATTTGGACCATTTTCCTGCATTGGGTGATCATTCACCAGTACATTCTCAGTTTTTCTTAATATATAGCATTTATGGTAATCATATTAGACTTCTGTTTTCAATCTCGTATAGAAGTCTTCATGAAATGCTATGTCATTTCATGTCCTGTGTCAGTTTATGTTTTGGTCCACTTTTCCAGTATTTTAGTGGACCCTGAAATGTGTGTGATGTGACATTTGTCATTTTCATTAGCAAAAAAAGTTGTATGATCTGTGCCTTTTTTATATCTTGGCAGGTAGGAATATTATATTTGGATGCAGAGTTCAGGGAAGATAAGTTGGAAACACTAAATGTTAAAGATGTAGCAAACCCTGTCAAACATTAGTACTTTATAGAAGAATGCATGCTTTCCATATTTTTTTCCTTACATAAACATCAGGTTAGGCAGTATAAAGAATAGGACTTGTTTTTGTTTTTGTTTTGTTGCACTGAAGTTTGATAAATAGTGTTATTGAGAGAGATGTGTAATTTTTCTGTATAGACAGGAGAAGAAAGAACTATCTTCATCTGAGAGAGGCTAAAATGTTTTCAGCTAGGAACAAATCTTCCTGGTCGAAAGTTAGTAGGATATGCCTGCTCTTTGGCCTGATGACCAATTTTAACTTAGAGCTTTTTTTTTTTAATTTTGTCTGCCCCAAGTTTTGTGAAATTTTTCATATTTTAATTTCAAGCTTATTTTGGAGAGATAGGAAGGTCATTTCCATGTATGCATAATAATCCTGCAAAGTACAGGTACTTTGTCTAAGAAACATTGGAAGCAGGTTAAATGTTTTGTAAACTTTGAAATATATGGTCTAATGTTTAAGCAGAATTGGAAAAGACTAAGATCGGTTAACAAATAACAACTTTTTTTTCTTTTTTTCTTTTGTTTTTTGAAGTGTTGGGGTTTGGTTTTGTTTTTTGAGTCTTTTTTTTTTAAGTGAAATTTATTGAGGAAAAATATGTGAAGGACCTTCACTCTAAGATGTTATATTTTTCTTAAAAAGTAACTCCTAGTAGGGGTACCACTGAATCTGTACAGAGCCGTAAAAACTGAAGTTCTGCCTCTGATGTATTTTGTGAGTTTGTTTCTTTGAATTTTCATTTTACAGTTACTTTTCCTTGCATACAAACAAGCATATAAAATGGCAACAAACTGCACATGATTTCACAAATATTAAAAAGTCTTTTAAAAAGTATTGCCAAACATTAATGTTGATTTCTAGTTATTTATTCTGGGAATGTATAGTATTTGAAAACAGAAATTGGTACCTTGCACACATCATCTGTAAGCTGTTTGGTTTTAAAATACTGTAGATAATTAACCAAGGTAGAATGACCTTGTAATGTAACTGCTCTTGGGCAATATTCTCTGTACATATTAGCGACAACAGATTGGATTTTATGTTGACATTTGTTTGGTTATAGTGCAATATATTTTGTATGCAAGCAGTTTCAATAAAGTTTGATCTTCCTCTGCTAAATTGATGTTGATGCAATCCTTACAAATGATTGCTTTTAAAATTTTAAGCTAGGAAAAGAAATCTATAGAAAGTGTTCTGTTACAAAATGTAACTGTTACCATTGGAAATTTCACGTCATAGGAAGTTAGCCTTTATCTACCAACTTTCAAGAACTTGTTTAATAAAGCGAAAAACTCAACCAAATGGTACAAAACCACAGTGTACCATTAAAATATGCACTAAGTCTCTTTTTTACAAAGGCTGTATTCAGCAAGGCGCTAACTTGCTTAAATGTGAATTACTAACTTCTAAAACTGTACTTTGATTCACATGTTTTCAAATGGAGTTGGAGTTCATTCATATTACAATATTTGTGTGCTAAACGTGTATGTTTTTCAGTTCAAAGTCATGATGTTTTTAAAATCTTATTAAAGTTTCAAAAATCTGAAGATTGTTTATCTAGATGTAAATTTTTATTAAAAAGTTGCACTTATGAAAAAGCAAAAAA\n"
          ]
        },
        {
          "output_type": "execute_result",
          "data": {
            "text/plain": [
              "1"
            ]
          },
          "metadata": {},
          "execution_count": 4
        }
      ]
    },
    {
      "cell_type": "code",
      "source": [
        "!pip install biopython"
      ],
      "metadata": {
        "colab": {
          "base_uri": "https://localhost:8080/"
        },
        "id": "UV9s-Zemu7jr",
        "outputId": "8ad46c29-42be-4ddb-8bf8-889926ab2317"
      },
      "execution_count": null,
      "outputs": [
        {
          "output_type": "stream",
          "name": "stdout",
          "text": [
            "Collecting biopython\n",
            "  Downloading biopython-1.84-cp310-cp310-manylinux_2_17_x86_64.manylinux2014_x86_64.whl.metadata (12 kB)\n",
            "Requirement already satisfied: numpy in /usr/local/lib/python3.10/dist-packages (from biopython) (1.26.4)\n",
            "Downloading biopython-1.84-cp310-cp310-manylinux_2_17_x86_64.manylinux2014_x86_64.whl (3.2 MB)\n",
            "\u001b[2K   \u001b[90m━━━━━━━━━━━━━━━━━━━━━━━━━━━━━━━━━━━━━━━━\u001b[0m \u001b[32m3.2/3.2 MB\u001b[0m \u001b[31m22.0 MB/s\u001b[0m eta \u001b[36m0:00:00\u001b[0m\n",
            "\u001b[?25hInstalling collected packages: biopython\n",
            "Successfully installed biopython-1.84\n"
          ]
        }
      ]
    },
    {
      "cell_type": "code",
      "source": [
        "import Bio"
      ],
      "metadata": {
        "id": "2W9oJvQMvOoY"
      },
      "execution_count": null,
      "outputs": []
    },
    {
      "cell_type": "code",
      "source": [
        "from Bio.Blast import NCBIWWW\n",
        "from Bio import SeqIO\n",
        "\n",
        "# Read a sequence from a FASTA file\n",
        "fasta_file = \"/content/practice_sequence.txt\"\n",
        "sequence = SeqIO.read(fasta_file, 'fasta')\n",
        "\n",
        "# Perform BLAST Search\n",
        "result_handle = NCBIWWW.qblast('blastn', 'nt', sequence.seq)\n",
        "\n",
        "# Save result to a file\n",
        "with open('blast_result.xml', 'w') as out_handle:\n",
        "    out_handle.write(result_handle.read())\n",
        "result_handle.close()\n",
        "print('BLAST search complete.')"
      ],
      "metadata": {
        "colab": {
          "base_uri": "https://localhost:8080/"
        },
        "id": "uaQPxAh7u68_",
        "outputId": "64fd26c6-d244-4597-c152-ea3042b5163b"
      },
      "execution_count": null,
      "outputs": [
        {
          "output_type": "stream",
          "name": "stdout",
          "text": [
            "BLAST search complete.\n"
          ]
        }
      ]
    },
    {
      "cell_type": "code",
      "source": [
        "from Bio.Blast import NCBIXML\n",
        "\n",
        "# Parse the BLAST result XML file\n",
        "result_handle = open(\"blast_result.xml\")\n",
        "blast_record = NCBIXML.read(result_handle)\n",
        "result_handle.close()\n",
        "\n",
        "# Print some information about the BLAST hits\n",
        "print(\"No of alignments:\", len(blast_record.alignments))\n",
        "\n",
        "# Iterate over each alignment and print some details\n",
        "for alignment in blast_record.alignments[:5]:   # Print details for the first five alignments\n",
        "    print(\"Alignment title:\", alignment.title)\n",
        "    print(\"Number of high-scoring segment pairs (hsps):\", len(alignment.hsps))\n",
        "    for hsp in alignment.hsps[:1]:  # Print details for the first HSP of each alignment\n",
        "        print(\"Query start:\", hsp.query_start)\n",
        "        print(\"Query end:\", hsp.query_end)\n",
        "        print(\"Hit start:\", hsp.sbjct_start)\n",
        "        print(\"Hit end:\", hsp.sbjct_end)\n",
        "        print(\"Alignment length:\", hsp.align_length)\n",
        "        print(\"E-value:\", hsp.expect)\n",
        "        print(\"Bit score:\", hsp.bits)\n",
        "        print(\"Query sequence:\", hsp.query)\n",
        "        print(\"Hit sequence:\", hsp.sbjct)\n"
      ],
      "metadata": {
        "colab": {
          "base_uri": "https://localhost:8080/"
        },
        "id": "hGS0x9VnxU2O",
        "outputId": "da0da065-a1bb-4245-e39b-f85ef217ca7d"
      },
      "execution_count": null,
      "outputs": [
        {
          "output_type": "stream",
          "name": "stdout",
          "text": [
            "No of alignments: 50\n",
            "Alignment title: gi|2840605286|gb|CP164269.1| Escherichia coli strain OXEC-205 chromosome, complete genome\n",
            "Number of high-scoring segment pairs (hsps): 1\n",
            "Query start: 1\n",
            "Query end: 518\n",
            "Hit start: 1121653\n",
            "Hit end: 1122170\n",
            "Alignment length: 518\n",
            "E-value: 0.0\n",
            "Bit score: 935.431\n",
            "Query sequence: CGACGCTGCAGTCGAGAAAGCCTATAAAGGCGAGCGTAAAATCTCCTGGATGGAAATTTACACCGGTGAAAAATCCACACAGGTTTATGGTCAGGACGTCTGGTTGCCTGCTGAAACCCTTGATCTGATTCGTGAATATCGCGTTGCCATTAAAGGCCCGCTGACCACTCCGGTTGGTGGCGGTATTCGCTCTCTGAACGTTGCCCTGCGCCAGGAACTGGATCTCTACATCTGCCTGCGTCCGGTACGTTACTATCAGGGCACTCCAAGCCCGGTTAAACACCCTGAACTGACCGATATGGTTATCTTCCGTGAAAACTCGGAAGACATTTATGCGGGTATCGAATGGAAAGCAGACTCTGCCGACGCTGAGAAAGTGATTAAATTCCTGCGTGAAGAGATGGGCGTGAAGAAAATTCGCTTCCCGGAACATTGCGGTATCGGTATTAAGCCGTGTTCGGAAGAAGGCACCAAACGTCTGGTTCGTGCAGCGATCGAATACGCAATTGCTAACGATC\n",
            "Hit sequence: CGACGCTGCAGTCGAGAAAGCCTATAAAGGCGAGCGTAAAATCTCCTGGATGGAAATTTACACCGGTGAAAAATCCACACAGGTTTATGGTCAGGACGTCTGGTTGCCTGCTGAAACCCTTGATCTGATTCGTGAATATCGCGTTGCCATTAAAGGCCCGCTGACCACTCCGGTTGGTGGCGGTATTCGCTCTCTGAACGTTGCCCTGCGCCAGGAACTGGATCTCTACATCTGCCTGCGTCCGGTACGTTACTATCAGGGCACTCCAAGCCCGGTTAAACACCCTGAACTGACCGATATGGTTATCTTCCGTGAAAACTCGGAAGACATTTATGCGGGTATCGAATGGAAAGCAGACTCTGCCGACGCTGAGAAAGTGATTAAATTCCTGCGTGAAGAGATGGGCGTGAAGAAAATTCGCTTCCCGGAACATTGCGGTATCGGTATTAAGCCGTGTTCGGAAGAAGGCACCAAACGTCTGGTTCGTGCAGCGATCGAATACGCAATTGCTAACGATC\n",
            "Alignment title: gi|2852407806|emb|OZ038729.1| Escherichia coli isolate 30602_1#152 genome assembly, chromosome: 1\n",
            "Number of high-scoring segment pairs (hsps): 1\n",
            "Query start: 1\n",
            "Query end: 518\n",
            "Hit start: 2755617\n",
            "Hit end: 2755100\n",
            "Alignment length: 518\n",
            "E-value: 0.0\n",
            "Bit score: 935.431\n",
            "Query sequence: CGACGCTGCAGTCGAGAAAGCCTATAAAGGCGAGCGTAAAATCTCCTGGATGGAAATTTACACCGGTGAAAAATCCACACAGGTTTATGGTCAGGACGTCTGGTTGCCTGCTGAAACCCTTGATCTGATTCGTGAATATCGCGTTGCCATTAAAGGCCCGCTGACCACTCCGGTTGGTGGCGGTATTCGCTCTCTGAACGTTGCCCTGCGCCAGGAACTGGATCTCTACATCTGCCTGCGTCCGGTACGTTACTATCAGGGCACTCCAAGCCCGGTTAAACACCCTGAACTGACCGATATGGTTATCTTCCGTGAAAACTCGGAAGACATTTATGCGGGTATCGAATGGAAAGCAGACTCTGCCGACGCTGAGAAAGTGATTAAATTCCTGCGTGAAGAGATGGGCGTGAAGAAAATTCGCTTCCCGGAACATTGCGGTATCGGTATTAAGCCGTGTTCGGAAGAAGGCACCAAACGTCTGGTTCGTGCAGCGATCGAATACGCAATTGCTAACGATC\n",
            "Hit sequence: CGACGCTGCAGTCGAGAAAGCCTATAAAGGCGAGCGTAAAATCTCCTGGATGGAAATTTACACCGGTGAAAAATCCACACAGGTTTATGGTCAGGACGTCTGGTTGCCTGCTGAAACCCTTGATCTGATTCGTGAATATCGCGTTGCCATTAAAGGCCCGCTGACCACTCCGGTTGGTGGCGGTATTCGCTCTCTGAACGTTGCCCTGCGCCAGGAACTGGATCTCTACATCTGCCTGCGTCCGGTACGTTACTATCAGGGCACTCCAAGCCCGGTTAAACACCCTGAACTGACCGATATGGTTATCTTCCGTGAAAACTCGGAAGACATTTATGCGGGTATCGAATGGAAAGCAGACTCTGCCGACGCTGAGAAAGTGATTAAATTCCTGCGTGAAGAGATGGGCGTGAAGAAAATTCGCTTCCCGGAACATTGCGGTATCGGTATTAAGCCGTGTTCGGAAGAAGGCACCAAACGTCTGGTTCGTGCAGCGATCGAATACGCAATTGCTAACGATC\n",
            "Alignment title: gi|2852409433|emb|OZ039416.1| Escherichia coli isolate 30348_1#155 genome assembly, chromosome: 1\n",
            "Number of high-scoring segment pairs (hsps): 1\n",
            "Query start: 1\n",
            "Query end: 518\n",
            "Hit start: 3055158\n",
            "Hit end: 3054641\n",
            "Alignment length: 518\n",
            "E-value: 0.0\n",
            "Bit score: 935.431\n",
            "Query sequence: CGACGCTGCAGTCGAGAAAGCCTATAAAGGCGAGCGTAAAATCTCCTGGATGGAAATTTACACCGGTGAAAAATCCACACAGGTTTATGGTCAGGACGTCTGGTTGCCTGCTGAAACCCTTGATCTGATTCGTGAATATCGCGTTGCCATTAAAGGCCCGCTGACCACTCCGGTTGGTGGCGGTATTCGCTCTCTGAACGTTGCCCTGCGCCAGGAACTGGATCTCTACATCTGCCTGCGTCCGGTACGTTACTATCAGGGCACTCCAAGCCCGGTTAAACACCCTGAACTGACCGATATGGTTATCTTCCGTGAAAACTCGGAAGACATTTATGCGGGTATCGAATGGAAAGCAGACTCTGCCGACGCTGAGAAAGTGATTAAATTCCTGCGTGAAGAGATGGGCGTGAAGAAAATTCGCTTCCCGGAACATTGCGGTATCGGTATTAAGCCGTGTTCGGAAGAAGGCACCAAACGTCTGGTTCGTGCAGCGATCGAATACGCAATTGCTAACGATC\n",
            "Hit sequence: CGACGCTGCAGTCGAGAAAGCCTATAAAGGCGAGCGTAAAATCTCCTGGATGGAAATTTACACCGGTGAAAAATCCACACAGGTTTATGGTCAGGACGTCTGGTTGCCTGCTGAAACCCTTGATCTGATTCGTGAATATCGCGTTGCCATTAAAGGCCCGCTGACCACTCCGGTTGGTGGCGGTATTCGCTCTCTGAACGTTGCCCTGCGCCAGGAACTGGATCTCTACATCTGCCTGCGTCCGGTACGTTACTATCAGGGCACTCCAAGCCCGGTTAAACACCCTGAACTGACCGATATGGTTATCTTCCGTGAAAACTCGGAAGACATTTATGCGGGTATCGAATGGAAAGCAGACTCTGCCGACGCTGAGAAAGTGATTAAATTCCTGCGTGAAGAGATGGGCGTGAAGAAAATTCGCTTCCCGGAACATTGCGGTATCGGTATTAAGCCGTGTTCGGAAGAAGGCACCAAACGTCTGGTTCGTGCAGCGATCGAATACGCAATTGCTAACGATC\n",
            "Alignment title: gi|2852407720|emb|OZ038642.1| Escherichia coli isolate 30348_2#15 genome assembly, chromosome: 1\n",
            "Number of high-scoring segment pairs (hsps): 1\n",
            "Query start: 1\n",
            "Query end: 518\n",
            "Hit start: 2848366\n",
            "Hit end: 2847849\n",
            "Alignment length: 518\n",
            "E-value: 0.0\n",
            "Bit score: 935.431\n",
            "Query sequence: CGACGCTGCAGTCGAGAAAGCCTATAAAGGCGAGCGTAAAATCTCCTGGATGGAAATTTACACCGGTGAAAAATCCACACAGGTTTATGGTCAGGACGTCTGGTTGCCTGCTGAAACCCTTGATCTGATTCGTGAATATCGCGTTGCCATTAAAGGCCCGCTGACCACTCCGGTTGGTGGCGGTATTCGCTCTCTGAACGTTGCCCTGCGCCAGGAACTGGATCTCTACATCTGCCTGCGTCCGGTACGTTACTATCAGGGCACTCCAAGCCCGGTTAAACACCCTGAACTGACCGATATGGTTATCTTCCGTGAAAACTCGGAAGACATTTATGCGGGTATCGAATGGAAAGCAGACTCTGCCGACGCTGAGAAAGTGATTAAATTCCTGCGTGAAGAGATGGGCGTGAAGAAAATTCGCTTCCCGGAACATTGCGGTATCGGTATTAAGCCGTGTTCGGAAGAAGGCACCAAACGTCTGGTTCGTGCAGCGATCGAATACGCAATTGCTAACGATC\n",
            "Hit sequence: CGACGCTGCAGTCGAGAAAGCCTATAAAGGCGAGCGTAAAATCTCCTGGATGGAAATTTACACCGGTGAAAAATCCACACAGGTTTATGGTCAGGACGTCTGGTTGCCTGCTGAAACCCTTGATCTGATTCGTGAATATCGCGTTGCCATTAAAGGCCCGCTGACCACTCCGGTTGGTGGCGGTATTCGCTCTCTGAACGTTGCCCTGCGCCAGGAACTGGATCTCTACATCTGCCTGCGTCCGGTACGTTACTATCAGGGCACTCCAAGCCCGGTTAAACACCCTGAACTGACCGATATGGTTATCTTCCGTGAAAACTCGGAAGACATTTATGCGGGTATCGAATGGAAAGCAGACTCTGCCGACGCTGAGAAAGTGATTAAATTCCTGCGTGAAGAGATGGGCGTGAAGAAAATTCGCTTCCCGGAACATTGCGGTATCGGTATTAAGCCGTGTTCGGAAGAAGGCACCAAACGTCTGGTTCGTGCAGCGATCGAATACGCAATTGCTAACGATC\n",
            "Alignment title: gi|2840487655|gb|CP165156.1| Escherichia coli strain OXEC-240 chromosome, complete genome\n",
            "Number of high-scoring segment pairs (hsps): 1\n",
            "Query start: 1\n",
            "Query end: 518\n",
            "Hit start: 2013814\n",
            "Hit end: 2014331\n",
            "Alignment length: 518\n",
            "E-value: 0.0\n",
            "Bit score: 935.431\n",
            "Query sequence: CGACGCTGCAGTCGAGAAAGCCTATAAAGGCGAGCGTAAAATCTCCTGGATGGAAATTTACACCGGTGAAAAATCCACACAGGTTTATGGTCAGGACGTCTGGTTGCCTGCTGAAACCCTTGATCTGATTCGTGAATATCGCGTTGCCATTAAAGGCCCGCTGACCACTCCGGTTGGTGGCGGTATTCGCTCTCTGAACGTTGCCCTGCGCCAGGAACTGGATCTCTACATCTGCCTGCGTCCGGTACGTTACTATCAGGGCACTCCAAGCCCGGTTAAACACCCTGAACTGACCGATATGGTTATCTTCCGTGAAAACTCGGAAGACATTTATGCGGGTATCGAATGGAAAGCAGACTCTGCCGACGCTGAGAAAGTGATTAAATTCCTGCGTGAAGAGATGGGCGTGAAGAAAATTCGCTTCCCGGAACATTGCGGTATCGGTATTAAGCCGTGTTCGGAAGAAGGCACCAAACGTCTGGTTCGTGCAGCGATCGAATACGCAATTGCTAACGATC\n",
            "Hit sequence: CGACGCTGCAGTCGAGAAAGCCTATAAAGGCGAGCGTAAAATCTCCTGGATGGAAATTTACACCGGTGAAAAATCCACACAGGTTTATGGTCAGGACGTCTGGTTGCCTGCTGAAACCCTTGATCTGATTCGTGAATATCGCGTTGCCATTAAAGGCCCGCTGACCACTCCGGTTGGTGGCGGTATTCGCTCTCTGAACGTTGCCCTGCGCCAGGAACTGGATCTCTACATCTGCCTGCGTCCGGTACGTTACTATCAGGGCACTCCAAGCCCGGTTAAACACCCTGAACTGACCGATATGGTTATCTTCCGTGAAAACTCGGAAGACATTTATGCGGGTATCGAATGGAAAGCAGACTCTGCCGACGCTGAGAAAGTGATTAAATTCCTGCGTGAAGAGATGGGCGTGAAGAAAATTCGCTTCCCGGAACATTGCGGTATCGGTATTAAGCCGTGTTCGGAAGAAGGCACCAAACGTCTGGTTCGTGCAGCGATCGAATACGCAATTGCTAACGATC\n"
          ]
        }
      ]
    }
  ]
}